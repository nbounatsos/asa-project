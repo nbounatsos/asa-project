{
 "cells": [
  {
   "cell_type": "markdown",
   "metadata": {},
   "source": [
    "# Welcome\n",
    "\n",
    "This notebook is that starting point for the online part of the BWA and QDNAseq assignment in the course ‘Algorithms in Sequence Analysis’. The goal of this exercise is for you to familiarize yourself with a common bioinformatics data analysis workflow, so that you may apply it and similar workflows in practice after finishing this assignment.\n",
    "\n",
    "***\n",
    "\n",
    "## Introduction\n",
    "\n",
    "The assignment comprises three notebooks, that will help you answer the questions on Canvas:\n",
    "1. Assignment Introduction (Welcome.ipynb): basic requirements for this assignment and instructions to familiarize you with Jupyter Notebook.\n",
    "2. Burrows-Wheeler Aligner (BWA) workflow ([BWA.ipynb](2.%20BWA.ipynb)): using BWA for genome alignment.\n",
    "3. QDNAseq workflow ([QDNAseq.ipynb](3.%20QDNAseq.ipynb)): computational workflow performing QDNAseq with R.\n",
    "\n",
    "<div class=\"alert alert-block alert-info\">Note this assignment should be completed in pairs! Submit a single report together.</div>\n",
    "\n",
    "***\n",
    "\n",
    "## Introduction to Jupyter Notebook\n",
    "\n",
    "If you've worked with Jupyter Notebooks before, you can skip the remainder of this notebook and proceed with [BWA.ipynb](2.%20BWA.ipynb) instead. If you are new to Jupyter Notebooks, or would like a refresher on useful hotkeys and how Jupyter works, continue.\n",
    "\n",
    "[Jupyter Notebook](http://jupyter.org/) is an open-source web application that allows you to create and share documents that contain live code, equations, visualizations and narrative text. Common uses include data cleaning and transformation, code prototyping, numerical simulation, statistical modeling, data visualization, machine learning, and many more. \n",
    "\n",
    "Notebooks use two types of cells: Code and Markdown.\n",
    "1. Code is executed in the programming language of the notebook. You can see which type of kernel your notebook is running in the topright corner of your screen: this notebook, as well as [BWA](2.%20BWA.ipynb), runs a Python 3 kernel, whereas [QDNAseq](3.%20QDNAseq.ipynb) interprets code with R instead.\n",
    "2. [Markdown](https://storage.googleapis.com/qdnaseq/docs/markdown-cheatsheet-online.pdf) is a \"text-to-HTML\" conversion tool; a lightweight markup language commonly used to render text in browsers, such as readme files (e.g. on Github) or narrative text in Jupyter!\n",
    "\n",
    "***\n",
    "\n",
    "### Command and Edit Mode\n",
    "\n",
    "While navigating a Jupyter Notebook, be aware which mode you are in:\n",
    "\n",
    "1. Command Mode, shown by a blue cell outline (press `Esc` to enable)\n",
    "2. Edit Mode, shown by a green cell outline (press `Enter` to enable)\n",
    "\n",
    "Hotkeys have different functions depending on the mode you're in!\n",
    "\n",
    "***\n",
    "\n",
    "### Running Cells\n",
    "\n",
    "Use `ctrl+Enter` to run the currently selected cell.\n",
    "\n",
    "Use `shift+Enter` to run the current cell, and select the next one.\n",
    "\n",
    "***Go through the exercises below to learn more useful hotkeys.***"
   ]
  },
  {
   "cell_type": "code",
   "execution_count": null,
   "metadata": {},
   "outputs": [],
   "source": [
    "import socket\n",
    "socket.gethostbyname(socket.gethostname())"
   ]
  },
  {
   "cell_type": "markdown",
   "metadata": {},
   "source": [
    "Expected output: `'130.37.53.*'`"
   ]
  },
  {
   "cell_type": "markdown",
   "metadata": {},
   "source": [
    "***\n",
    "\n",
    "### Add two new cells above and below.\n",
    "\n",
    "Keyboard short-cuts: `a`(above)  and `b` (below) from Command Mode"
   ]
  },
  {
   "cell_type": "code",
   "execution_count": null,
   "metadata": {},
   "outputs": [],
   "source": [
    "# Add a new cell above and below this one."
   ]
  },
  {
   "cell_type": "markdown",
   "metadata": {},
   "source": [
    "### Delete the cell below.\n",
    "Keyboard short-cut: `dd` from Command Mode"
   ]
  },
  {
   "cell_type": "code",
   "execution_count": null,
   "metadata": {},
   "outputs": [],
   "source": [
    "# Delete me!"
   ]
  },
  {
   "cell_type": "markdown",
   "metadata": {},
   "source": [
    "### Add a line with the code \"`print(ctime())`\" and run it."
   ]
  },
  {
   "cell_type": "code",
   "execution_count": null,
   "metadata": {},
   "outputs": [],
   "source": [
    "from time import ctime\n",
    "# print(...)"
   ]
  },
  {
   "cell_type": "markdown",
   "metadata": {},
   "source": [
    "The expected output is the current time (GMT)."
   ]
  },
  {
   "cell_type": "markdown",
   "metadata": {},
   "source": [
    "***\n",
    "### Convert the cell types."
   ]
  },
  {
   "cell_type": "code",
   "execution_count": null,
   "metadata": {},
   "outputs": [],
   "source": [
    "### Convert this to a Markdown cell.\n",
    "Keyboard short-cut: `m` from Command Mode"
   ]
  },
  {
   "cell_type": "markdown",
   "metadata": {},
   "source": [
    "Convert this to a Code cell (`y` from Command Mode)\n",
    "##### You probably can't run it, though!"
   ]
  },
  {
   "cell_type": "markdown",
   "metadata": {},
   "source": [
    "\n",
    "\n"
   ]
  },
  {
   "cell_type": "markdown",
   "metadata": {},
   "source": [
    "## Inspect the files on your VM\n",
    "\n",
    "The interactive Python kernels in Jupyter have built-in support for some [syntax magic](http://ipython.readthedocs.io/en/stable/interactive/magics.html). **This does not work in R notebooks!**\n",
    "\n",
    "Starting a line with a `!` exclamation mark will run it as if it were sent from a terminal. This can even be mixed in with regular Python code.\n",
    "\n",
    "Several useful aliases, starting with a `%` or `%%` are also built-in. For example, starting a cell with `%%bash` causes it to be run in a subprocess -- using *bash* instead of Python.\n",
    "\n",
    "Run the cells below to check the files and directory structure of the \"home\" folder (`/home/student/` or `~` in short) on your VM."
   ]
  },
  {
   "cell_type": "code",
   "execution_count": null,
   "metadata": {},
   "outputs": [],
   "source": [
    "!ls /local/data/bsb_asa/student/"
   ]
  },
  {
   "cell_type": "code",
   "execution_count": null,
   "metadata": {},
   "outputs": [],
   "source": [
    "print(\"  Files in directory 'seq_demo':\")\n",
    "!ls /local/data/bsb_asa/student/seq_demo\n",
    "\n",
    "print(\"\\n  Files in directory 'ref_demo':\")\n",
    "!ls /local/data/bsb_asa/student/ref_demo"
   ]
  },
  {
   "cell_type": "code",
   "execution_count": null,
   "metadata": {},
   "outputs": [],
   "source": [
    "%%bash\n",
    "cd /local/data/bsb_asa/student/bam\n",
    "ls"
   ]
  },
  {
   "cell_type": "markdown",
   "metadata": {},
   "source": [
    "***\n",
    "This covers the basics of dealing with cells in Jupyter Notebooks. There are many more [useful tricks](https://www.dataquest.io/blog/jupyter-notebook-tips-tricks-shortcuts/) to learn, but you are encouraged to explore advanced features on your own. Continue with the assignment in the [BWA](2.%20BWA.ipynb) notebook.\n",
    "***"
   ]
  }
 ],
 "metadata": {
  "kernelspec": {
   "display_name": "bsb_asa Py3",
   "language": "python",
   "name": "bsb_asa_python3"
  },
  "language_info": {
   "codemirror_mode": {
    "name": "ipython",
    "version": 3
   },
   "file_extension": ".py",
   "mimetype": "text/x-python",
   "name": "python",
   "nbconvert_exporter": "python",
   "pygments_lexer": "ipython3",
   "version": "3.10.6"
  }
 },
 "nbformat": 4,
 "nbformat_minor": 4
}
