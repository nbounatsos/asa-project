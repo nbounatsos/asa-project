{
 "cells": [
  {
   "cell_type": "markdown",
   "metadata": {},
   "source": [
    "# QDNAseq\n",
    "\n",
    "A normal human genome is comprised of 23 pairs of chromosomes. Each of these chromosomes is divided into 2 sections or arms: The small or “p” arm (from the French “petit”, small) and the long or “q” arm (because “q” comes after “p”), separated by a centromere. In cancer, chromosomal aberrations reshape the structure of the chromosomes, often resulting in the loss of whole arms or parts thereof.\n",
    "\n",
    "![Chromosome](img/X2604-A-61.png)\n",
    "\n",
    "The QDNAseq work of Daoud Sie was presented in the lectures. In this notebook, you will reproduce part of his results for reads from 6 different cancer cell lines, using the accompanying R package. Note that although this uses a programming language you might not be familiar with, you do not necessarily have to learn R for this assignment, as *most* of the syntax is 1) given to you and/or 2) self-explanatory.\n",
    "\n",
    "If you want more information about what specific functions do, refer to the [package documentation](https://bioconductor.org/packages/release/bioc/manuals/QDNAseq/man/QDNAseq.pdf) or use **`help(`*`<function name>`*`)`**\n",
    "\n",
    "To answer the questions on Canvas, you should know *what* each function does, and *why* this is necessary or useful. You may find it helpful to look at the questions while working through this notebook.\n",
    "\n",
    "<div class=\"alert alert-block alert-info\"><b>Note:</b> As you've already seen how to turn FASTQ reads into a BAM file in the previous notebook, we saved you a lot of compute time by mapping the reads for the cell lines in this exercise against the entire human genome (hg19) <i>for</i> you. Thus, you do not have to align anything yourself. You can find each cell line's mapped reads in the <b>~/bam</b> folder.</div>"
   ]
  },
  {
   "cell_type": "code",
   "execution_count": null,
   "metadata": {},
   "outputs": [],
   "source": [
    "# Load the R package\n",
    "library(QDNAseq)"
   ]
  },
  {
   "cell_type": "code",
   "execution_count": null,
   "metadata": {
    "scrolled": true
   },
   "outputs": [],
   "source": [
    "# Download bin annotations\n",
    "\n",
    "bins = getBinAnnotations(binSize=30)"
   ]
  },
  {
   "cell_type": "code",
   "execution_count": null,
   "metadata": {},
   "outputs": [],
   "source": [
    "# Get read counts per bin\n",
    "\n",
    "bamFiles = Sys.glob(\"/local/data/bsb_asa/student/bam/SW480*.bam\")\n",
    "# Uncomment the line below to perform analysis for ALL cell lines at once!\n",
    "# bamFiles = Sys.glob(\"/local/data/bsb_asa/student/bam/*.bam\") \n",
    "readCounts = binReadCounts(bins, bamfiles = bamFiles)"
   ]
  },
  {
   "cell_type": "code",
   "execution_count": null,
   "metadata": {},
   "outputs": [],
   "source": [
    "# Plot the counts per bin\n",
    "\n",
    "plot(readCounts, logTransform=FALSE, ylim=c(-50, 200))\n",
    "highlightFilters(readCounts, logTransform=FALSE, residual=TRUE, blacklist=TRUE)\n",
    "# Tip: Investigate what this highlightFilters() function does!"
   ]
  },
  {
   "cell_type": "code",
   "execution_count": null,
   "metadata": {},
   "outputs": [],
   "source": [
    "# Apply filters and draw isobarPlot(s)\n",
    "\n",
    "readCountsFiltered = applyFilters(readCounts, residual=TRUE, blacklist=TRUE)\n",
    "isobarPlot(readCountsFiltered)"
   ]
  },
  {
   "cell_type": "code",
   "execution_count": null,
   "metadata": {},
   "outputs": [],
   "source": [
    "# Correct each bin's count for the relationship between GC content and mappability\n",
    "readCountsFiltered = estimateCorrection(readCountsFiltered)\n",
    "\n",
    "# If relevant, visualize average reads per bin vs. the variance for each cell line\n",
    "if (length(bamFiles) > 1) {noisePlot(readCountsFiltered)}"
   ]
  },
  {
   "cell_type": "code",
   "execution_count": null,
   "metadata": {},
   "outputs": [],
   "source": [
    "# Magic or madness? Make sure you understand these functions!\n",
    "\n",
    "copyNumbers = correctBins(readCountsFiltered)\n",
    "copyNumbersNormalized = normalizeBins(copyNumbers)\n",
    "copyNumbersSmooth = smoothOutlierBins(copyNumbersNormalized)\n",
    "plot(copyNumbersSmooth)"
   ]
  },
  {
   "cell_type": "code",
   "execution_count": null,
   "metadata": {
    "scrolled": true
   },
   "outputs": [],
   "source": [
    "# Do segmentation on the smoothed read counts, normalize, and plot the result\n",
    "\n",
    "copyNumbersSegmented = segmentBins(copyNumbersSmooth, transformFun=\"log2\")\n",
    "copyNumbersSegmented = normalizeSegmentedBins(copyNumbersSegmented)\n",
    "plot(copyNumbersSegmented)"
   ]
  },
  {
   "cell_type": "markdown",
   "metadata": {},
   "source": [
    "<div class=\"alert alert-block alert-info\"> Here is a reference frequency plot of copy number gains and losses from colorectal cancers made from 105 patient samples. Comparing the segmentation profiles of your analyzed cell line(s) may help you answer some of the questions, as well as understand how the cell lines are similar or different from \"typical\" cases!</div>\n",
    "\n",
    "![A frequency plot of colorectal cancers from 105 samples.](img/profile.png)"
   ]
  },
  {
   "cell_type": "code",
   "execution_count": null,
   "metadata": {},
   "outputs": [],
   "source": [
    "# Some model-based statistics on the assigned segmentation...\n",
    "# NOT recommended for this assignment, because figures are hard to read!\n",
    "# Only check if you are curious!\n",
    "\n",
    "copyNumbersCalled = callBins(copyNumbersSegmented)\n",
    "plot(copyNumbersCalled)"
   ]
  },
  {
   "cell_type": "code",
   "execution_count": null,
   "metadata": {},
   "outputs": [],
   "source": []
  }
 ],
 "metadata": {
  "kernelspec": {
   "display_name": "bsb_asa R",
   "language": "R",
   "name": "bsb_asa_r"
  },
  "language_info": {
   "codemirror_mode": "r",
   "file_extension": ".r",
   "mimetype": "text/x-r-source",
   "name": "R",
   "pygments_lexer": "r",
   "version": "4.1.3"
  }
 },
 "nbformat": 4,
 "nbformat_minor": 4
}
